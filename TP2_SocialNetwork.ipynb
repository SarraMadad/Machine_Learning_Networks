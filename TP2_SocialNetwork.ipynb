{
 "cells": [
  {
   "cell_type": "markdown",
   "id": "866cf01a",
   "metadata": {},
   "source": [
    "# <p style=\"text-align: center;\"><span style=\"text-decoration:underline;color:red\">TP 2 : Social Network </span></p>\n",
    "\n",
    "<img src=\"the_social_network.jpg\" style=\"width:800px;height:500px;\"/>\n",
    "\n",
    "## <span style=\"color:blue\">General Remarks</span>\n",
    "\n",
    "- This lab is an opportunity to discover networkx Python package to represent graphs, to calculate centrality metrics and then apply them on a case study.\n",
    "\n",
    "TUTORIAL : https://www.youtube.com/watch?v=PouhDHfssYA\n",
    "\n",
    "### 1 : Graph Representation in Python\n",
    "\n",
    "NetworkX is the most popular Python package for manipulating and analyzing graphs. Let’s try to create the following simple graph:"
   ]
  },
  {
   "cell_type": "code",
   "execution_count": 1,
   "id": "5d416250",
   "metadata": {},
   "outputs": [
    {
     "name": "stdout",
     "output_type": "stream",
     "text": [
      "Requirement already satisfied: decorator==5.0.9 in c:\\users\\sarah\\anaconda3\\lib\\site-packages (5.0.9)\n",
      "Note: you may need to restart the kernel to use updated packages.\n"
     ]
    }
   ],
   "source": [
    "pip install decorator==5.0.9"
   ]
  },
  {
   "cell_type": "code",
   "execution_count": 2,
   "id": "0927a76a",
   "metadata": {},
   "outputs": [],
   "source": [
    "#imports\n",
    "import networkx as nx"
   ]
  },
  {
   "cell_type": "code",
   "execution_count": 3,
   "id": "c657bc67",
   "metadata": {},
   "outputs": [],
   "source": [
    "#create an empty graph\n",
    "graph = nx.Graph()\n",
    "\n",
    "#create a single vertex \"Mike\" vertex=node\n",
    "graph.add_node(\"Mike\")\n",
    "\n",
    "#add a bunch of vertices : “Amine”, “Rémi”, “Nick”\n",
    "graph.add_node(\"Amine\")\n",
    "graph.add_node(\"Rémi\")\n",
    "graph.add_node(\"Nick\")\n",
    "\n",
    "#add an edge between ‘Mike” and “Amine”\n",
    "graph.add_edge(\"Mike\", \"Amine\")\n",
    "\n",
    "#add an edge between “Amine” and “Rémi”\n",
    "graph.add_edge(\"Amine\", \"Rémi\")\n",
    "\n",
    "#add an edge between “Mike” and “Christophe”\n",
    "graph.add_edge(\"Mike\", \"Christophe\")"
   ]
  },
  {
   "cell_type": "code",
   "execution_count": 4,
   "id": "2cb05da9",
   "metadata": {},
   "outputs": [
    {
     "data": {
      "text/plain": [
       "['Mike', 'Amine', 'Rémi', 'Nick', 'Christophe']"
      ]
     },
     "execution_count": 4,
     "metadata": {},
     "output_type": "execute_result"
    }
   ],
   "source": [
    "#display nodes list\n",
    "list(graph.nodes)"
   ]
  },
  {
   "cell_type": "code",
   "execution_count": 5,
   "id": "ea34f448",
   "metadata": {},
   "outputs": [
    {
     "data": {
      "text/plain": [
       "[('Mike', 'Amine'), ('Mike', 'Christophe'), ('Amine', 'Rémi')]"
      ]
     },
     "execution_count": 5,
     "metadata": {},
     "output_type": "execute_result"
    }
   ],
   "source": [
    "#display edges (relations) list\n",
    "list(graph.edges)"
   ]
  },
  {
   "cell_type": "code",
   "execution_count": 6,
   "id": "b33ccd57",
   "metadata": {},
   "outputs": [
    {
     "data": {
      "image/png": "[encoded data removed]",
      "text/plain": [
       "<Figure size 432x288 with 1 Axes>"
      ]
     },
     "metadata": {},
     "output_type": "display_data"
    }
   ],
   "source": [
    "#show graph\n",
    "nx.draw(graph, node_size=700, with_labels=True, node_color='green')"
   ]
  },
  {
   "cell_type": "markdown",
   "id": "67ff185c",
   "metadata": {},
   "source": [
    "### 2 : Calculating Centrality Metrics w/ Python\n",
    "\n",
    "Let’s consider a network with 10 vertices and edges distributed as following: [(7,2), (2,3), (7,4), (4,5), (7,3), \n",
    "(7,5), (1,6),(1,7),(2,8),(2,9)]\n"
   ]
  },
  {
   "cell_type": "code",
   "execution_count": 7,
   "id": "b7b8e5d8",
   "metadata": {},
   "outputs": [
    {
     "name": "stdout",
     "output_type": "stream",
     "text": [
      "[1, 2, 3, 4, 5, 6, 7, 8, 9]\n",
      "[(1, 6), (1, 7), (2, 7), (2, 3), (2, 8), (2, 9), (3, 7), (4, 7), (4, 5), (5, 7)]\n"
     ]
    },
    {
     "data": {
      "image/png": "[encoded data removed]",
      "text/plain": [
       "<Figure size 432x288 with 1 Axes>"
      ]
     },
     "metadata": {},
     "output_type": "display_data"
    }
   ],
   "source": [
    "#create the associated graph by using networkx package\n",
    "graph1 = nx.Graph()\n",
    "\n",
    "#create nodes\n",
    "graph1.add_node(1)\n",
    "graph1.add_node(2)\n",
    "graph1.add_node(3)\n",
    "graph1.add_node(4)\n",
    "graph1.add_node(5)\n",
    "graph1.add_node(6)\n",
    "graph1.add_node(7)\n",
    "graph1.add_node(8)\n",
    "graph1.add_node(9)\n",
    "\n",
    "#display nodes list\n",
    "print(list(graph1.nodes))\n",
    "\n",
    "#create edges\n",
    "graph1.add_edge(7,2)\n",
    "graph1.add_edge(2,3)\n",
    "graph1.add_edge(7,4)\n",
    "graph1.add_edge(4,5)\n",
    "graph1.add_edge(7,3)\n",
    "graph1.add_edge(7,5)\n",
    "graph1.add_edge(1,6)\n",
    "graph1.add_edge(1,7)\n",
    "graph1.add_edge(2,8)\n",
    "graph1.add_edge(2,9)\n",
    "\n",
    "#display edges (relations) list\n",
    "print(list(graph1.edges))\n",
    "\n",
    "#show graph\n",
    "nx.draw(graph1, node_size=700, with_labels=True, node_color='blue')"
   ]
  },
  {
   "cell_type": "code",
   "execution_count": 8,
   "id": "7a4ebba5",
   "metadata": {},
   "outputs": [
    {
     "name": "stdout",
     "output_type": "stream",
     "text": [
      "Degree centrality (graph1) : {1: 0.25, 2: 0.5, 3: 0.25, 4: 0.25, 5: 0.25, 6: 0.125, 7: 0.625, 8: 0.125, 9: 0.125}\n",
      "Betweenness centrality (graph1) : {1: 0.25, 2: 0.46428571428571425, 3: 0.0, 4: 0.0, 5: 0.0, 6: 0.0, 7: 0.7142857142857142, 8: 0.0, 9: 0.0}\n",
      "Closeness centrality (graph1) : {1: 0.5, 2: 0.6153846153846154, 3: 0.5333333333333333, 4: 0.47058823529411764, 5: 0.47058823529411764, 6: 0.34782608695652173, 7: 0.7272727272727273, 8: 0.4, 9: 0.4}\n"
     ]
    }
   ],
   "source": [
    "#calculate its degree centrality\n",
    "print(\"Degree centrality (graph1) : \"+str(nx.degree_centrality(graph1)))\n",
    "\n",
    "#calculate its betweenness centrality\n",
    "print(\"Betweenness centrality (graph1) : \"+str(nx.betweenness_centrality(graph1)))\n",
    "\n",
    "#calculate its closeness centrality\n",
    "print(\"Closeness centrality (graph1) : \"+str(nx.closeness_centrality(graph1)))"
   ]
  },
  {
   "cell_type": "markdown",
   "id": "1d01ef57",
   "metadata": {},
   "source": [
    "Comment your result :\n",
    "\n",
    "- The degree centrality for a node v is the fraction of nodes it is connected to.\n",
    "\n",
    "\n",
    "- Compute the shortest-path betweenness centrality for nodes. To calculate betweenness centrality, you take every pair of the network and count how many times a node can interrupt the shortest paths (geodesic distance) between the two nodes of the pair.\n",
    "\n",
    "\n",
    "- To obtain information, one should be near from everyone.  In this sense, the node in the nearest position on average can most efficiently obtain information.  Thus, closeness centrality is the most appropriate."
   ]
  },
  {
   "cell_type": "markdown",
   "id": "f7f6712d",
   "metadata": {},
   "source": [
    "### 3 :  Fraud Analytics\n"
   ]
  },
  {
   "cell_type": "markdown",
   "id": "1f4b036f",
   "metadata": {},
   "source": [
    "Let's look at how we can use SNA to detect fraud. \n",
    "\n",
    "The word homophily has been coined to represent the effect human social network has on a person. Extending this concept, a homophilic network is a group of people who are likely to be associated with each other due to some common factor; for example, having the same origin or hobbies, being part of the same gang or the same  university, or some combination of other factors.\n",
    "\n",
    "If we want to analyze fraud in a homophilic network, we can take advantage of the relationships between the person under investigation and other people in the network, whose risk of involvement in fraud has already been \n",
    "carefully calculated. Flagging a person due to their company is sometimes also called guilt by association.\n",
    "\n",
    "In an effort to understand the process, let's first look at a simple case."
   ]
  },
  {
   "cell_type": "code",
   "execution_count": 9,
   "id": "ba223058",
   "metadata": {},
   "outputs": [
    {
     "data": {
      "image/png": "[encoded data removed]",
      "text/plain": [
       "<Figure size 432x288 with 1 Axes>"
      ]
     },
     "metadata": {},
     "output_type": "display_data"
    }
   ],
   "source": [
    "#create a network with nine vertices and eight edges w/ fraud and non-fraud flags\n",
    "graph2 = nx.Graph()\n",
    "graph2.add_node(1, role='NF')\n",
    "graph2.add_node(2, role='F')\n",
    "graph2.add_node(3, role='NF')\n",
    "graph2.add_node(4, role='NF')\n",
    "graph2.add_node(5, role='F')\n",
    "graph2.add_node(6, role='F')\n",
    "graph2.add_node(7, role='F')\n",
    "graph2.add_node(8, role='NF')\n",
    "graph2.add_node(9, role='NF')\n",
    "\n",
    "graph2.add_edge(7,2)\n",
    "graph2.add_edge(2,3)\n",
    "graph2.add_edge(7,4)\n",
    "graph2.add_edge(4,5)\n",
    "graph2.add_edge(7,3)\n",
    "graph2.add_edge(7,5)\n",
    "graph2.add_edge(1,6)\n",
    "graph2.add_edge(1,7)\n",
    "graph2.add_edge(2,8)\n",
    "graph2.add_edge(2,9)\n",
    "\n",
    "color = ['red', 'green']\n",
    "\n",
    "nx.draw(graph2, node_size=700, with_labels=True, node_color='pink')"
   ]
  },
  {
   "cell_type": "code",
   "execution_count": 10,
   "id": "fa8984c3",
   "metadata": {},
   "outputs": [
    {
     "data": {
      "image/png": "[encoded data removed]",
      "text/plain": [
       "<Figure size 432x288 with 1 Axes>"
      ]
     },
     "metadata": {},
     "output_type": "display_data"
    }
   ],
   "source": [
    "color = []\n",
    "liste = list(graph2.nodes) #numéro des nodes\n",
    "index_liste = [0,1,2,3,4,5,6,7,8]\n",
    "role = nx.get_node_attributes(graph2, 'role') #fraude ou pas fraude (l'indice commence à 1)\n",
    "label = {} #combinaison des 2 à intégrer dans le graphe\n",
    "\n",
    "for i in liste:\n",
    "    if graph2.nodes[i] == {'role': 'NF'}:\n",
    "        color.append('green')\n",
    "    else:\n",
    "        color.append('red')\n",
    "\n",
    "for i in range(9):\n",
    "    label[i] = (str(liste[i]) + role[i+1])\n",
    "\n",
    "#on a un décalage de clé, on incrémente donc les clés du dict \"label\" de 1\n",
    "label = {k+1 if k >= 0 else k:v for k,v in label.items()}\n",
    "\n",
    "nx.draw(graph2, node_size=700, with_labels=True, node_color=color, labels=label) "
   ]
  },
  {
   "cell_type": "markdown",
   "id": "81a9f2da",
   "metadata": {},
   "source": [
    "Let's assume that we add another vertex, named q, to the network, as shown in the following figure. We have no prior information about this person and whether this person is involved in fraud or not. We want to classify this person as NF or F based on their links to the existing members of the social network:\n",
    "\n",
    "<img src=\"new_person.png\" style=\"width:300px;height:200px;\"/>\n",
    "\n",
    "Two ways to do it: \n",
    "- Using a simple method that does not use centrality metrics and additional information about the type of fraud\n",
    "- Using a watchtower methodology, which is an advanced technique that uses the centrality metrics of the existing nodes, as well as additional information about the type of fraud\n"
   ]
  },
  {
   "cell_type": "markdown",
   "id": "f6be1851",
   "metadata": {},
   "source": [
    "## <span style=\"color:blue\">Simple Fraud Analytics</span>\n",
    "\n",
    "The simple technique of fraud analytics is based on the assumption that in a network, the behaviour of a person is affected by the people they are connected to. In a network, two vertices are more likely to have similar \n",
    "behaviour if they are associated with each other.\n",
    "Based on this assumption, we devise a simple technique. If we want to find the probability that a certain node, \"a\", belongs to F, the probability is represented by P(F/q) and is calculated as follows:\n",
    "\n",
    "\n",
    "\n",
    "### 1 :  Calculate the likelihood that node q being involved in fraud.\n",
    "\n",
    "P(F|q) = 1/degree(q) * Σw(n, nj) \n",
    "\n",
    "- with w(n, nj) = the weight of the connection between n and nj\n",
    "\n",
    "The node would be in F if P(F/q) > T (T is a given threshold)."
   ]
  },
  {
   "cell_type": "code",
   "execution_count": 11,
   "id": "ee429e7f",
   "metadata": {},
   "outputs": [],
   "source": [
    "#on donne juste la liste de voisins et le seuil fixé T\n",
    "def likelihood(neighbors, T):\n",
    "    \n",
    "    #calcul des poids\n",
    "    #le poids = 1 si la relation est vers F et à 0 si vers NF\n",
    "    weights = []\n",
    "    for i in neighbors:\n",
    "        if graph2.nodes[i] == {'role': 'F'}:\n",
    "            weights.append(1)\n",
    "        else:\n",
    "            weights.append(0)\n",
    "    \n",
    "    #calcul de la probabilité\n",
    "    P = sum(weights)/len(neighbors)\n",
    "    \n",
    "    #choix et affichage\n",
    "    if P >= T:\n",
    "        print (\"The likelihood is :\", P ,\"which means that q is involved in fraud.\")\n",
    "    else:\n",
    "        print (\"The likelihood is :\", P ,\"which means that q is not involved in fraud.\")\n",
    "    \n",
    "    #on réinitialise les poids\n",
    "    weights = []"
   ]
  },
  {
   "cell_type": "code",
   "execution_count": 12,
   "id": "d0cff37a",
   "metadata": {},
   "outputs": [
    {
     "name": "stdout",
     "output_type": "stream",
     "text": [
      "The likelihood is : 0.6666666666666666 which means that q is involved in fraud.\n"
     ]
    }
   ],
   "source": [
    "#on observe que le \"?\" a 3 relations directes dont 3 voisins qui sont : 1, 7 et 5\n",
    "#on fixe le seuil à 0.5 car on estime qu'une probabilité supérieure à 50% est suffisante pour trancher donc T = 0.5\n",
    "\n",
    "likelihood([1,7,5], 0.5)"
   ]
  },
  {
   "cell_type": "markdown",
   "id": "2b2322c9",
   "metadata": {},
   "source": [
    "## <span style=\"color:blue\">The Watchtower Fraud Analytics Methodology\n",
    "</span>\n",
    "\n",
    "The previous, simple fraud analytics technique has the following two limitations:\n",
    "- It does not evaluate the importance of each vertex in the social network. A connection to a hub that is involved in fraud may have different implications than a relationship with a remote, isolated person.\n",
    "\n",
    "- When labeling someone as a known case of fraud in an existing network, we do not consider the severity of the crime. The watchtower fraud analytics methodology addresses these two limitations employing the following concepts:\n",
    "\n",
    "\n",
    "### 1 :   Scoring negative outcomes.\n",
    "\n",
    "If a person is known to be involved in fraud, we say that there is a negative outcome associated with this individual. The scores are based on an analysis of fraud cases and their impact from historical data.\n",
    "From a score of 1 to 10, some negative outcomes can be rated as follows:\n",
    "\n",
    "<img src=\"neg_outcomes.png\" style=\"width:600px;height:100px;\"/>\n",
    "\n",
    "### 2 :   Degree of Suspicion (DOS)\n",
    "\n",
    "The degree of suspicion (DOS) quantifies our level of suspicion that a person may be involved in fraud. A DOS value of 0 means that this is a low-risk person and a DOS value of 9 means that this is a high-risk person. \n",
    "Analysis of historical data shows that professional fraudsters have important positions in their social networks. \n",
    "To incorporate this: \n",
    "- Calculate all of the four centrality metrics of each vertex in our network: degree of centrality, betweenness, closeness and eigenvector.\n",
    "- Take the average of these vertices.\n",
    "- If a person associated with a vertex is involved in fraud, illustrate this negative outcome by scoring the person using the pre-determined values shown in the preceding table.\n",
    "- Multiply the average of the centrality metrics and the negative outcome score to get the value of the DOS. \n",
    "- Finally, normalize the DOS by dividing it by the maximum value of the DOS in the network.\n",
    "\n",
    "#### Calculate for each vertex, in a given network, its normalized DOS according to the process described above. "
   ]
  },
  {
   "cell_type": "code",
   "execution_count": 13,
   "id": "5c2e5f8e",
   "metadata": {},
   "outputs": [],
   "source": [
    "def average_centrality_metrics():\n",
    "    moy = {}\n",
    "    for i in list(graph2.nodes):\n",
    "        moy[i] = (((nx.degree_centrality(graph2))[i] + (nx.betweenness_centrality(graph2))[i] + (nx.closeness_centrality(graph2))[i] +(nx.eigenvector_centrality(graph2))[i])/4)\n",
    "    return moy "
   ]
  },
  {
   "cell_type": "code",
   "execution_count": 14,
   "id": "5ad5ee16",
   "metadata": {},
   "outputs": [
    {
     "data": {
      "text/plain": [
       "{1: 0.3092973867583357,\n",
       " 2: 0.5063384184950667,\n",
       " 3: 0.2869334781183585,\n",
       " 4: 0.2602569741151565,\n",
       " 5: 0.2602569741151565,\n",
       " 6: 0.13901924248080227,\n",
       " 7: 0.6647705525324459,\n",
       " 8: 0.1703577895739195,\n",
       " 9: 0.1703577895739195}"
      ]
     },
     "execution_count": 14,
     "metadata": {},
     "output_type": "execute_result"
    }
   ],
   "source": [
    "average_centrality_metrics()"
   ]
  },
  {
   "cell_type": "code",
   "execution_count": 15,
   "id": "a81cde5c",
   "metadata": {},
   "outputs": [],
   "source": [
    "import random\n",
    "\n",
    "#on attribue un score au hasard parmi les choix disponibles pour ceux ayant fraudé, pour le reste on met 0\n",
    "\n",
    "def negative_score_nodes():\n",
    "    neg_score = [6, 7, 8, 10] #scores disponibles\n",
    "    neg_score_nodes = {} #scores des noeuds\n",
    "\n",
    "    for i in list(graph2.nodes):\n",
    "        if graph2.nodes[i] == {'role': 'F'}:\n",
    "            neg_score_nodes[i] = random.choice(neg_score)\n",
    "        else:\n",
    "            neg_score_nodes[i] = 0\n",
    "\n",
    "    return neg_score_nodes"
   ]
  },
  {
   "cell_type": "code",
   "execution_count": 16,
   "id": "5f7d606e",
   "metadata": {},
   "outputs": [
    {
     "data": {
      "text/plain": [
       "{1: 0, 2: 8, 3: 0, 4: 0, 5: 8, 6: 8, 7: 7, 8: 0, 9: 0}"
      ]
     },
     "execution_count": 16,
     "metadata": {},
     "output_type": "execute_result"
    }
   ],
   "source": [
    "negative_score_nodes()"
   ]
  },
  {
   "cell_type": "code",
   "execution_count": 17,
   "id": "6be9c064",
   "metadata": {},
   "outputs": [],
   "source": [
    "def compute_DOS():\n",
    "    dos_nodes = {}\n",
    "    normalized_dos = {}\n",
    "    for i in list(graph2.nodes):\n",
    "        dos_nodes[i] = average_centrality_metrics()[i]*negative_score_nodes()[i]\n",
    "        \n",
    "    for i in list(graph2.nodes):\n",
    "        normalized_dos[i] = dos_nodes[i]/max(dos_nodes.values())\n",
    "    \n",
    "    #print('The DOS nodes (not normalized) are :\\n',dos_nodes)\n",
    "    #print('The maximum DOS (not normalized) is :\\n', max(dos_nodes.values()))\n",
    "    \n",
    "    return normalized_dos"
   ]
  },
  {
   "cell_type": "code",
   "execution_count": 18,
   "id": "9c8a0ee3",
   "metadata": {},
   "outputs": [
    {
     "data": {
      "text/plain": [
       "{1: 0.0,\n",
       " 2: 0.6664647140210972,\n",
       " 3: 0.0,\n",
       " 4: 0.0,\n",
       " 5: 0.4893736890189153,\n",
       " 6: 0.20912364717601878,\n",
       " 7: 1.0,\n",
       " 8: 0.0,\n",
       " 9: 0.0}"
      ]
     },
     "execution_count": 18,
     "metadata": {},
     "output_type": "execute_result"
    }
   ],
   "source": [
    "normalized_dos = compute_DOS()\n",
    "normalized_dos"
   ]
  },
  {
   "cell_type": "markdown",
   "id": "765d3eb3",
   "metadata": {},
   "source": [
    "### 2 :   Degree of Suspicion (DOS)\n",
    "\n",
    "In order to calculate the DOS of the new node that has been added, the following formula is used :\n",
    "\n",
    "<img src=\"dos.png\" style=\"width:500px;height:100px;\"/>\n",
    "\n",
    "This will indicate the risk of fraud associated with this new node added to the system. It is possible to create different risk bins for the DOS, as follows:\n",
    "\n",
    "<img src=\"dos_value.png\" style=\"width:600px;height:100px;\"/>\n",
    "\n",
    "#### Calculate the DOS of the new node q. \n"
   ]
  },
  {
   "cell_type": "code",
   "execution_count": 19,
   "id": "65f2b3fe",
   "metadata": {},
   "outputs": [],
   "source": [
    "def dos_q(neighbors):\n",
    "    weights = []\n",
    "    dos_neighbors = []\n",
    "    weights_dos = []\n",
    "    \n",
    "    #on ajoute les poids des voisins\n",
    "    for i in neighbors:\n",
    "        if graph2.nodes[i] == {'role': 'F'}:\n",
    "            weights.append(1)\n",
    "        else:\n",
    "            weights.append(0)\n",
    "     \n",
    "    #on ajoute les DOS de ces mêmes voisins       \n",
    "        dos_neighbors.append(normalized_dos[i])\n",
    "    \n",
    "    #on veut multiplier les poids des voisins par leur dos respectif\n",
    "    for i in [0, 1, 2]:\n",
    "        weights_dos.append(weights[i]*dos_neighbors[i])\n",
    "        \n",
    "    #print(weights)   \n",
    "    #print(dos_neighbors) \n",
    "    #print(weights_dos)\n",
    "    \n",
    "    dos_q = sum(weights_dos)/len(neighbors)\n",
    "        \n",
    "    print(\"DOS(q) = \",dos_q)\n",
    "        \n",
    "    if dos_q == 0:\n",
    "            print(\"No risk.\")\n",
    "    elif 0 < dos_q <= 0.10:\n",
    "            print(\"Low risk.\")\n",
    "    elif 0.10 < dos_q <= 0.3:\n",
    "            print(\"Medium risk.\")\n",
    "    else:\n",
    "            print(\"High risk.\")"
   ]
  },
  {
   "cell_type": "code",
   "execution_count": 20,
   "id": "7e3a3339",
   "metadata": {},
   "outputs": [
    {
     "name": "stdout",
     "output_type": "stream",
     "text": [
      "DOS(q) =  0.49645789633963844\n",
      "High risk.\n"
     ]
    }
   ],
   "source": [
    "dos_q([1,7,5])"
   ]
  },
  {
   "cell_type": "code",
   "execution_count": null,
   "id": "5ac2595d",
   "metadata": {},
   "outputs": [],
   "source": [
    "#sur le anaconda prompt, taper :\n",
    "#jupyter-nbconvert --to PDFviaHTML TP2_SocialNetwork_MADAD_NOUAR.ipynb"
   ]
  }
 ],
 "metadata": {
  "kernelspec": {
   "display_name": "Python 3 (ipykernel)",
   "language": "python",
   "name": "python3"
  },
  "language_info": {
   "codemirror_mode": {
    "name": "ipython",
    "version": 3
   },
   "file_extension": ".py",
   "mimetype": "text/x-python",
   "name": "python",
   "nbconvert_exporter": "python",
   "pygments_lexer": "ipython3",
   "version": "3.9.12"
  }
 },
 "nbformat": 4,
 "nbformat_minor": 5
}
